{
  "cells": [
    {
      "cell_type": "markdown",
      "metadata": {
        "id": "view-in-github",
        "colab_type": "text"
      },
      "source": [
        "<a href=\"https://colab.research.google.com/github/chlolv/SRSE_project/blob/master/code/Project_0.ipynb\" target=\"_parent\"><img src=\"https://colab.research.google.com/assets/colab-badge.svg\" alt=\"Open In Colab\"/></a>"
      ]
    },
    {
      "cell_type": "markdown",
      "id": "31a084fa",
      "metadata": {
        "id": "31a084fa"
      },
      "source": [
        "# SRSE PROJECT\n",
        "### Analysis of links between French middle schools and high school in Paris academy\n",
        "\n",
        "\n",
        "\n",
        "Chloé Lavest, Emeline Maire\n",
        "\n",
        "Ensae Paris - 2021-2022"
      ]
    },
    {
      "cell_type": "code",
      "execution_count": null,
      "id": "53f151bd",
      "metadata": {
        "id": "53f151bd"
      },
      "outputs": [],
      "source": [
        ""
      ]
    },
    {
      "cell_type": "markdown",
      "id": "be2bc2e1",
      "metadata": {
        "id": "be2bc2e1"
      },
      "source": [
        "## Pacakges and functions"
      ]
    },
    {
      "cell_type": "code",
      "execution_count": 1,
      "id": "70f245c9",
      "metadata": {
        "id": "70f245c9"
      },
      "outputs": [],
      "source": [
        "import random\n",
        "import networkx as nx\n",
        "import numpy as np\n",
        "import pandas as pd\n",
        "import matplotlib.pyplot as plt\n",
        "import tqdm\n",
        "import os\n",
        "import os.path\n",
        "import csv"
      ]
    },
    {
      "cell_type": "markdown",
      "id": "b6331c04",
      "metadata": {
        "id": "b6331c04"
      },
      "source": [
        "## Data download "
      ]
    },
    {
      "cell_type": "code",
      "execution_count": null,
      "id": "c2e9b5a5",
      "metadata": {
        "id": "c2e9b5a5",
        "outputId": "9c72a910-42be-4872-c071-b6ebebae2a29"
      },
      "outputs": [
        {
          "data": {
            "text/plain": [
              "'C:\\\\Users\\\\chloe\\\\OneDrive\\\\Bureau\\\\3A\\\\SRSE\\\\Projet\\\\Git\\\\code'"
            ]
          },
          "execution_count": 2,
          "metadata": {},
          "output_type": "execute_result"
        }
      ],
      "source": [
        "#---------- DATA DOWNLOAD ---------#\n",
        "wd = os.getcwd()\n",
        "wd"
      ]
    },
    {
      "cell_type": "code",
      "execution_count": null,
      "id": "8c89fa89",
      "metadata": {
        "id": "8c89fa89"
      },
      "outputs": [],
      "source": [
        "os.chdir(\"..\")\n",
        "os.chdir(\"..\")\n",
        "temp_wd = os.getcwd()"
      ]
    },
    {
      "cell_type": "code",
      "execution_count": null,
      "id": "6c0aee1f",
      "metadata": {
        "id": "6c0aee1f",
        "outputId": "3c954efa-dc5d-47b0-aaa7-738c59755037"
      },
      "outputs": [
        {
          "ename": "FileNotFoundError",
          "evalue": "[WinError 3] Le chemin d’accès spécifié est introuvable: 'C:\\\\Users\\\\chloe\\\\OneDrive\\\\Bureau\\\\3A\\\\data\\\\'",
          "output_type": "error",
          "traceback": [
            "\u001b[1;31m---------------------------------------------------------------------------\u001b[0m",
            "\u001b[1;31mFileNotFoundError\u001b[0m                         Traceback (most recent call last)",
            "\u001b[1;32m<ipython-input-9-ae13686ee3fa>\u001b[0m in \u001b[0;36m<module>\u001b[1;34m\u001b[0m\n\u001b[0;32m      2\u001b[0m \u001b[0mdata_path\u001b[0m\u001b[1;33m\u001b[0m\u001b[1;33m\u001b[0m\u001b[0m\n\u001b[0;32m      3\u001b[0m \u001b[1;33m\u001b[0m\u001b[0m\n\u001b[1;32m----> 4\u001b[1;33m \u001b[0mdata_eleves\u001b[0m \u001b[1;33m=\u001b[0m \u001b[1;33m[\u001b[0m\u001b[0mdata_path\u001b[0m \u001b[1;33m+\u001b[0m \u001b[0mf\u001b[0m \u001b[1;32mfor\u001b[0m \u001b[0mf\u001b[0m \u001b[1;32min\u001b[0m \u001b[0mos\u001b[0m\u001b[1;33m.\u001b[0m\u001b[0mlistdir\u001b[0m\u001b[1;33m(\u001b[0m\u001b[0mdata_path\u001b[0m\u001b[1;33m)\u001b[0m\u001b[1;33m]\u001b[0m\u001b[1;33m\u001b[0m\u001b[1;33m\u001b[0m\u001b[0m\n\u001b[0m",
            "\u001b[1;31mFileNotFoundError\u001b[0m: [WinError 3] Le chemin d’accès spécifié est introuvable: 'C:\\\\Users\\\\chloe\\\\OneDrive\\\\Bureau\\\\3A\\\\data\\\\'"
          ]
        }
      ],
      "source": [
        "data_path = temp_wd + \"\\\\data\\\\\"\n",
        "data_path\n",
        "\n",
        "data_eleves = [data_path + f for f in os.listdir(data_path)]"
      ]
    },
    {
      "cell_type": "code",
      "source": [
        "data_eleves = pd.read_csv('eleve18.csv', sep = \";\")"
      ],
      "metadata": {
        "colab": {
          "base_uri": "https://localhost:8080/"
        },
        "id": "5MlbgdmUztk0",
        "outputId": "5694a00c-9078-482b-e093-7a6ab16434f2"
      },
      "id": "5MlbgdmUztk0",
      "execution_count": 17,
      "outputs": [
        {
          "output_type": "stream",
          "name": "stderr",
          "text": [
            "/usr/local/lib/python3.7/dist-packages/IPython/core/interactiveshell.py:2882: DtypeWarning: Columns (10,20) have mixed types.Specify dtype option on import or set low_memory=False.\n",
            "  exec(code_obj, self.user_global_ns, self.user_ns)\n"
          ]
        }
      ]
    },
    {
      "cell_type": "code",
      "execution_count": null,
      "id": "a3ab31c5",
      "metadata": {
        "id": "a3ab31c5",
        "outputId": "4e72d529-a159-4ae5-fd6a-5f5630127961"
      },
      "outputs": [
        {
          "data": {
            "text/plain": [
              "['C:\\\\Users\\\\chloe\\\\OneDrive\\\\Bureau\\\\3A\\\\SRSE\\\\Projet\\\\data\\\\eleve18.csv',\n",
              " 'C:\\\\Users\\\\chloe\\\\OneDrive\\\\Bureau\\\\3A\\\\SRSE\\\\Projet\\\\data\\\\eleve19.csv',\n",
              " 'C:\\\\Users\\\\chloe\\\\OneDrive\\\\Bureau\\\\3A\\\\SRSE\\\\Projet\\\\data\\\\eleve20.csv',\n",
              " 'C:\\\\Users\\\\chloe\\\\OneDrive\\\\Bureau\\\\3A\\\\SRSE\\\\Projet\\\\data\\\\form.ADISP.2022-04-03.pdf']"
            ]
          },
          "execution_count": 5,
          "metadata": {},
          "output_type": "execute_result"
        }
      ],
      "source": [
        "data_eleves"
      ]
    },
    {
      "cell_type": "code",
      "execution_count": null,
      "id": "f314407e",
      "metadata": {
        "id": "f314407e"
      },
      "outputs": [],
      "source": [
        "for i in data_eleves :\n",
        "    locals()[\"_\".join(['eleves',i[-6:-4]])] = pd.read_csv(i, sep = \";\", dtype = \"str\") \n"
      ]
    },
    {
      "cell_type": "markdown",
      "id": "f2dc8c69",
      "metadata": {
        "id": "f2dc8c69"
      },
      "source": [
        "## Data preparation"
      ]
    },
    {
      "cell_type": "code",
      "execution_count": null,
      "id": "53e1b4a7",
      "metadata": {
        "id": "53e1b4a7",
        "outputId": "2a7e3f16-ac0a-43d8-9efe-1f4c5babe67e"
      },
      "outputs": [
        {
          "data": {
            "text/plain": [
              "array(['001', '069', '038', '039', '042', '073', '-', '071', '074', '014',\n",
              "       '999', '058', '072', '007', '036', '030', '088', '084', '093',\n",
              "       '006', '082', '003', '025', '013', '028', '045', '063', '017',\n",
              "       '035', '091', '089', '068', '976', '021', '033', '079', '02B',\n",
              "       '972', '026', '049', '043', '078', '057', '066', '034', '022',\n",
              "       '973', '011', '067', '076', '005', '027', '018', '044', '085',\n",
              "       '054', '988', '047', '002', '060', '080', '059', '077', '051',\n",
              "       '092', '971', '081', '031', '008', '087', '048', '064', '062',\n",
              "       '095', '052', '061', '083', '090', '053', '075', '974', '019',\n",
              "       '056', '070', '037', '029', '094', '055', '010', '02A', '978',\n",
              "       '050', '012', '015', '023', '041', '016', '086', '046', '024',\n",
              "       '004', '975', '977', '040', '065', '032', '987', '986', '009'],\n",
              "      dtype=object)"
            ]
          },
          "execution_count": 45,
          "metadata": {},
          "output_type": "execute_result"
        }
      ],
      "source": [
        "eleves_18['DRES'].unique()"
      ]
    },
    {
      "cell_type": "code",
      "source": [
        "dep_idf = ['095', '078', '091', '092', '093', '094', '077', '075']"
      ],
      "metadata": {
        "id": "dBInT8txz9Cg"
      },
      "id": "dBInT8txz9Cg",
      "execution_count": 18,
      "outputs": []
    },
    {
      "cell_type": "code",
      "source": [
        "acV = ['095', '078', '091', '092']\n",
        "acC = ['093', '094', '077']"
      ],
      "metadata": {
        "id": "g8n9gmfZ0tZh"
      },
      "id": "g8n9gmfZ0tZh",
      "execution_count": 19,
      "outputs": []
    },
    {
      "cell_type": "code",
      "source": [
        "idf_18 = data_eleves[data_eleves['DRES'].isin(dep_idf)]"
      ],
      "metadata": {
        "id": "S1eglrha0L7F"
      },
      "id": "S1eglrha0L7F",
      "execution_count": 20,
      "outputs": []
    },
    {
      "cell_type": "code",
      "source": [
        "idf_18['DRES'].unique()"
      ],
      "metadata": {
        "colab": {
          "base_uri": "https://localhost:8080/"
        },
        "id": "AtMz5itR87Rk",
        "outputId": "525b26da-61ac-4117-a89e-e69e14c05c6b"
      },
      "id": "AtMz5itR87Rk",
      "execution_count": 24,
      "outputs": [
        {
          "output_type": "execute_result",
          "data": {
            "text/plain": [
              "array(['093', '091', '078', '077', '092', '095', '075', '094'],\n",
              "      dtype=object)"
            ]
          },
          "metadata": {},
          "execution_count": 24
        }
      ]
    },
    {
      "cell_type": "code",
      "source": [
        "conditions = [\n",
        "              (idf_18[idf_18['DRES'].isin(acV)]),\n",
        "              (idf_18[idf_18['DRES'].isin(acC)]),\n",
        "              (idf_18['DRES'] == '075'),\n",
        "]\n",
        "\n",
        "values = ['Versailles', 'Créteil', 'Paris']\n"
      ],
      "metadata": {
        "id": "GV887Lxc0qDq"
      },
      "id": "GV887Lxc0qDq",
      "execution_count": 29,
      "outputs": []
    },
    {
      "cell_type": "code",
      "source": [
        "idf_18['Academie'] = np.select(conditions, values)"
      ],
      "metadata": {
        "colab": {
          "base_uri": "https://localhost:8080/",
          "height": 409
        },
        "id": "LgunU5s0-Iuo",
        "outputId": "e884b6ca-bb33-4e08-ccd6-1549716f3f85"
      },
      "id": "LgunU5s0-Iuo",
      "execution_count": 30,
      "outputs": [
        {
          "output_type": "error",
          "ename": "ValueError",
          "evalue": "ignored",
          "traceback": [
            "\u001b[0;31m---------------------------------------------------------------------------\u001b[0m",
            "\u001b[0;31mValueError\u001b[0m                                Traceback (most recent call last)",
            "\u001b[0;32m<ipython-input-30-016261b165df>\u001b[0m in \u001b[0;36m<module>\u001b[0;34m()\u001b[0m\n\u001b[0;32m----> 1\u001b[0;31m \u001b[0midf_18\u001b[0m\u001b[0;34m[\u001b[0m\u001b[0;34m'Academie'\u001b[0m\u001b[0;34m]\u001b[0m \u001b[0;34m=\u001b[0m \u001b[0mnp\u001b[0m\u001b[0;34m.\u001b[0m\u001b[0mselect\u001b[0m\u001b[0;34m(\u001b[0m\u001b[0mconditions\u001b[0m\u001b[0;34m,\u001b[0m \u001b[0mvalues\u001b[0m\u001b[0;34m)\u001b[0m\u001b[0;34m\u001b[0m\u001b[0;34m\u001b[0m\u001b[0m\n\u001b[0m",
            "\u001b[0;32m<__array_function__ internals>\u001b[0m in \u001b[0;36mselect\u001b[0;34m(*args, **kwargs)\u001b[0m\n",
            "\u001b[0;32m/usr/local/lib/python3.7/dist-packages/numpy/lib/function_base.py\u001b[0m in \u001b[0;36mselect\u001b[0;34m(condlist, choicelist, default)\u001b[0m\n\u001b[1;32m    692\u001b[0m     \u001b[0;31m# as the shape is needed for the result. Doing it separately optimizes\u001b[0m\u001b[0;34m\u001b[0m\u001b[0;34m\u001b[0m\u001b[0;34m\u001b[0m\u001b[0m\n\u001b[1;32m    693\u001b[0m     \u001b[0;31m# for example when all choices are scalars.\u001b[0m\u001b[0;34m\u001b[0m\u001b[0;34m\u001b[0m\u001b[0;34m\u001b[0m\u001b[0m\n\u001b[0;32m--> 694\u001b[0;31m     \u001b[0mcondlist\u001b[0m \u001b[0;34m=\u001b[0m \u001b[0mnp\u001b[0m\u001b[0;34m.\u001b[0m\u001b[0mbroadcast_arrays\u001b[0m\u001b[0;34m(\u001b[0m\u001b[0;34m*\u001b[0m\u001b[0mcondlist\u001b[0m\u001b[0;34m)\u001b[0m\u001b[0;34m\u001b[0m\u001b[0;34m\u001b[0m\u001b[0m\n\u001b[0m\u001b[1;32m    695\u001b[0m     \u001b[0mchoicelist\u001b[0m \u001b[0;34m=\u001b[0m \u001b[0mnp\u001b[0m\u001b[0;34m.\u001b[0m\u001b[0mbroadcast_arrays\u001b[0m\u001b[0;34m(\u001b[0m\u001b[0;34m*\u001b[0m\u001b[0mchoicelist\u001b[0m\u001b[0;34m)\u001b[0m\u001b[0;34m\u001b[0m\u001b[0;34m\u001b[0m\u001b[0m\n\u001b[1;32m    696\u001b[0m \u001b[0;34m\u001b[0m\u001b[0m\n",
            "\u001b[0;32m<__array_function__ internals>\u001b[0m in \u001b[0;36mbroadcast_arrays\u001b[0;34m(*args, **kwargs)\u001b[0m\n",
            "\u001b[0;32m/usr/local/lib/python3.7/dist-packages/numpy/lib/stride_tricks.py\u001b[0m in \u001b[0;36mbroadcast_arrays\u001b[0;34m(subok, *args)\u001b[0m\n\u001b[1;32m    536\u001b[0m     \u001b[0margs\u001b[0m \u001b[0;34m=\u001b[0m \u001b[0;34m[\u001b[0m\u001b[0mnp\u001b[0m\u001b[0;34m.\u001b[0m\u001b[0marray\u001b[0m\u001b[0;34m(\u001b[0m\u001b[0m_m\u001b[0m\u001b[0;34m,\u001b[0m \u001b[0mcopy\u001b[0m\u001b[0;34m=\u001b[0m\u001b[0;32mFalse\u001b[0m\u001b[0;34m,\u001b[0m \u001b[0msubok\u001b[0m\u001b[0;34m=\u001b[0m\u001b[0msubok\u001b[0m\u001b[0;34m)\u001b[0m \u001b[0;32mfor\u001b[0m \u001b[0m_m\u001b[0m \u001b[0;32min\u001b[0m \u001b[0margs\u001b[0m\u001b[0;34m]\u001b[0m\u001b[0;34m\u001b[0m\u001b[0;34m\u001b[0m\u001b[0m\n\u001b[1;32m    537\u001b[0m \u001b[0;34m\u001b[0m\u001b[0m\n\u001b[0;32m--> 538\u001b[0;31m     \u001b[0mshape\u001b[0m \u001b[0;34m=\u001b[0m \u001b[0m_broadcast_shape\u001b[0m\u001b[0;34m(\u001b[0m\u001b[0;34m*\u001b[0m\u001b[0margs\u001b[0m\u001b[0;34m)\u001b[0m\u001b[0;34m\u001b[0m\u001b[0;34m\u001b[0m\u001b[0m\n\u001b[0m\u001b[1;32m    539\u001b[0m \u001b[0;34m\u001b[0m\u001b[0m\n\u001b[1;32m    540\u001b[0m     \u001b[0;32mif\u001b[0m \u001b[0mall\u001b[0m\u001b[0;34m(\u001b[0m\u001b[0marray\u001b[0m\u001b[0;34m.\u001b[0m\u001b[0mshape\u001b[0m \u001b[0;34m==\u001b[0m \u001b[0mshape\u001b[0m \u001b[0;32mfor\u001b[0m \u001b[0marray\u001b[0m \u001b[0;32min\u001b[0m \u001b[0margs\u001b[0m\u001b[0;34m)\u001b[0m\u001b[0;34m:\u001b[0m\u001b[0;34m\u001b[0m\u001b[0;34m\u001b[0m\u001b[0m\n",
            "\u001b[0;32m/usr/local/lib/python3.7/dist-packages/numpy/lib/stride_tricks.py\u001b[0m in \u001b[0;36m_broadcast_shape\u001b[0;34m(*args)\u001b[0m\n\u001b[1;32m    418\u001b[0m     \u001b[0;31m# use the old-iterator because np.nditer does not handle size 0 arrays\u001b[0m\u001b[0;34m\u001b[0m\u001b[0;34m\u001b[0m\u001b[0;34m\u001b[0m\u001b[0m\n\u001b[1;32m    419\u001b[0m     \u001b[0;31m# consistently\u001b[0m\u001b[0;34m\u001b[0m\u001b[0;34m\u001b[0m\u001b[0;34m\u001b[0m\u001b[0m\n\u001b[0;32m--> 420\u001b[0;31m     \u001b[0mb\u001b[0m \u001b[0;34m=\u001b[0m \u001b[0mnp\u001b[0m\u001b[0;34m.\u001b[0m\u001b[0mbroadcast\u001b[0m\u001b[0;34m(\u001b[0m\u001b[0;34m*\u001b[0m\u001b[0margs\u001b[0m\u001b[0;34m[\u001b[0m\u001b[0;34m:\u001b[0m\u001b[0;36m32\u001b[0m\u001b[0;34m]\u001b[0m\u001b[0;34m)\u001b[0m\u001b[0;34m\u001b[0m\u001b[0;34m\u001b[0m\u001b[0m\n\u001b[0m\u001b[1;32m    421\u001b[0m     \u001b[0;31m# unfortunately, it cannot handle 32 or more arguments directly\u001b[0m\u001b[0;34m\u001b[0m\u001b[0;34m\u001b[0m\u001b[0;34m\u001b[0m\u001b[0m\n\u001b[1;32m    422\u001b[0m     \u001b[0;32mfor\u001b[0m \u001b[0mpos\u001b[0m \u001b[0;32min\u001b[0m \u001b[0mrange\u001b[0m\u001b[0;34m(\u001b[0m\u001b[0;36m32\u001b[0m\u001b[0;34m,\u001b[0m \u001b[0mlen\u001b[0m\u001b[0;34m(\u001b[0m\u001b[0margs\u001b[0m\u001b[0;34m)\u001b[0m\u001b[0;34m,\u001b[0m \u001b[0;36m31\u001b[0m\u001b[0;34m)\u001b[0m\u001b[0;34m:\u001b[0m\u001b[0;34m\u001b[0m\u001b[0;34m\u001b[0m\u001b[0m\n",
            "\u001b[0;31mValueError\u001b[0m: shape mismatch: objects cannot be broadcast to a single shape"
          ]
        }
      ]
    },
    {
      "cell_type": "code",
      "execution_count": null,
      "id": "7ba87760",
      "metadata": {
        "id": "7ba87760"
      },
      "outputs": [],
      "source": [
        "paris_18 = eleves_18.query(\"DRES == '075'\")"
      ]
    },
    {
      "cell_type": "code",
      "execution_count": null,
      "id": "9682ebda",
      "metadata": {
        "id": "9682ebda",
        "outputId": "01319647-e11a-494a-cf14-07ef5f06d19f"
      },
      "outputs": [
        {
          "data": {
            "text/plain": [
              "150218"
            ]
          },
          "execution_count": 49,
          "metadata": {},
          "output_type": "execute_result"
        }
      ],
      "source": [
        "len(paris_18)"
      ]
    },
    {
      "cell_type": "code",
      "execution_count": null,
      "id": "2bcc4e62",
      "metadata": {
        "id": "2bcc4e62",
        "outputId": "a59ecc33-80d0-4cf2-b173-433039305d4a"
      },
      "outputs": [
        {
          "data": {
            "text/plain": [
              "1528"
            ]
          },
          "execution_count": 54,
          "metadata": {},
          "output_type": "execute_result"
        }
      ],
      "source": [
        "etabs = [i for i in paris_18['NUM_ETAB'].unique()]\n",
        "len(etabs)"
      ]
    },
    {
      "cell_type": "code",
      "execution_count": null,
      "id": "24b4115e",
      "metadata": {
        "id": "24b4115e",
        "outputId": "9e602be9-8396-4b60-995a-75db8200261a"
      },
      "outputs": [
        {
          "data": {
            "text/plain": [
              "301"
            ]
          },
          "execution_count": 72,
          "metadata": {},
          "output_type": "execute_result"
        }
      ],
      "source": [
        "test = paris_18.query(\"PCS1 == '65'\")\n",
        "len(test)"
      ]
    },
    {
      "cell_type": "code",
      "execution_count": null,
      "id": "8264ad2d",
      "metadata": {
        "id": "8264ad2d"
      },
      "outputs": [],
      "source": [
        "lower_classes = ['10', '21', '22', '52', '53', '54', '55', '56', '62', '63', '64', '65', '67', '68', '69', '81', '85', '86']\n",
        "nationalities = []\n",
        "grade_middleschool = []\n",
        "grade_highschool = []"
      ]
    },
    {
      "cell_type": "code",
      "execution_count": null,
      "id": "a14ad35d",
      "metadata": {
        "id": "a14ad35d"
      },
      "outputs": [],
      "source": [
        "for etab in etabs:\n",
        "    cond = \"NUM_ETAB == \" + \"'\" + etab + \"'\"\n",
        "    df_etab = paris_18.query(cond)\n",
        "    df_etab['perc_french'] = len(df_etab.query(\"NATIO_G == '1'\"))/len(df_etab)\n",
        "    df_etab['perc_lwrclass'] = len(df_etab.query(PCS1 in lower_classes))/len(df_etab)\n",
        "    df_etab['sex_ratio'] = len(df_etab.query(\"SEXE == '2'\"))/len(df_etab)\n",
        " "
      ]
    },
    {
      "cell_type": "code",
      "execution_count": 31,
      "id": "74639de5",
      "metadata": {
        "id": "74639de5"
      },
      "outputs": [],
      "source": [
        "liste_seconde = ['221114', '221121', '221131', '221141']\n",
        "idf_2_18 = idf_18[idf_18['MEFST6'].isin(liste_seconde)]"
      ]
    },
    {
      "cell_type": "raw",
      "id": "8256658c",
      "metadata": {
        "id": "8256658c"
      },
      "source": [
        "What we want to do\n",
        "- For each établissement (middle school and high school) compute the number of students living with only one parent, french vs non french, from \"disadvantageous\" background (2017, 2018 and 2019)\n",
        "- For each high school, list all middle schools that are sending students to this high school (using students in seconde only and the column NUMETABP)\n",
        "- Then link each high school with the information we have on the middle schools that are sending student at t-1\n",
        "\n",
        "What we cannot do :\n",
        "- link students when they are not changing établissement: because we do not have a unique identifier for each student, we are not able to follow them trough time. However, because we know about the previous établissement (the one the student went to the year before) we can link the high school to the middle school. With 3 years, we can only do that in 2018 and 2019 right now, because the attributes need to come from year - 1. \n"
      ]
    },
    {
      "cell_type": "code",
      "execution_count": null,
      "id": "f04aef57",
      "metadata": {
        "id": "f04aef57"
      },
      "outputs": [],
      "source": [
        "# columns that we need to compute the values that are interesting\n"
      ]
    },
    {
      "cell_type": "markdown",
      "source": [
        "#### Création du réseau"
      ],
      "metadata": {
        "id": "SnAPuN8I2Koe"
      },
      "id": "SnAPuN8I2Koe"
    },
    {
      "cell_type": "code",
      "source": [
        "eleves_G = nx.Graph()  # start by generating empty graph\n",
        "\n",
        "\n",
        "eleves_G.add_nodes_from(idf_2_18['NUMETABP'], bipartite=0) # collèges\n",
        "eleves_G.add_nodes_from(idf_2_18['NUM_ETAB'], bipartite=1) # lycées\n",
        "\n"
      ],
      "metadata": {
        "id": "J0sZYSoC2Nt1"
      },
      "id": "J0sZYSoC2Nt1",
      "execution_count": null,
      "outputs": []
    },
    {
      "cell_type": "code",
      "source": [
        "eleves_G.add_edges_from([(Collèges, Lycées) for (Collèges, Lycées)\n",
        "                          in idf_2_18[['NUMETABP','NUM_ETAB']].to_numpy()])"
      ],
      "metadata": {
        "id": "2-RsIiFu-q5h"
      },
      "id": "2-RsIiFu-q5h",
      "execution_count": 37,
      "outputs": []
    },
    {
      "cell_type": "code",
      "source": [
        "print(nx.info(eleves_G))"
      ],
      "metadata": {
        "colab": {
          "base_uri": "https://localhost:8080/"
        },
        "id": "TbIfCHn__IH_",
        "outputId": "ed57be02-6ce6-41f7-c7e0-0cb95a296ac9"
      },
      "id": "TbIfCHn__IH_",
      "execution_count": 38,
      "outputs": [
        {
          "output_type": "stream",
          "name": "stdout",
          "text": [
            "Graph with 2610 nodes and 14238 edges\n"
          ]
        }
      ]
    },
    {
      "cell_type": "code",
      "source": [
        "node_color = []\n",
        "\n",
        "# then, for each node in the graph\n",
        "for node in eleves_G.nodes(data=True):\n",
        "    # if the node has the attribute bipartite = 0 (company), make it red\n",
        "    if node[1]['bipartite']==0:\n",
        "        node_color.append('red')\n",
        "    # if the node has the attribute bipartite = 1 (director), make it blue\n",
        "    elif node[1]['bipartite']==1:\n",
        "        node_color.append('blue')\n",
        "\n",
        "    # draw graph with node attribute color\n",
        "nx.draw(eleves_G, with_labels=False, node_size = 15, node_color=node_color, edge_color = \"gray\")"
      ],
      "metadata": {
        "colab": {
          "base_uri": "https://localhost:8080/",
          "height": 319
        },
        "id": "vCMBVf10_w9q",
        "outputId": "0c85e81c-ea89-4056-abf8-3b4e266faf11"
      },
      "id": "vCMBVf10_w9q",
      "execution_count": 39,
      "outputs": [
        {
          "output_type": "display_data",
          "data": {
            "text/plain": [
              "<Figure size 432x288 with 1 Axes>"
            ],
            "image/png": "[encoded data removed]"
          },
          "metadata": {}
        }
      ]
    }
  ],
  "metadata": {
    "colab": {
      "name": "Project_0.ipynb",
      "provenance": [],
      "include_colab_link": true
    },
    "kernelspec": {
      "display_name": "Python 3",
      "language": "python",
      "name": "python3"
    },
    "language_info": {
      "codemirror_mode": {
        "name": "ipython",
        "version": 3
      },
      "file_extension": ".py",
      "mimetype": "text/x-python",
      "name": "python",
      "nbconvert_exporter": "python",
      "pygments_lexer": "ipython3",
      "version": "3.8.8"
    }
  },
  "nbformat": 4,
  "nbformat_minor": 5
}